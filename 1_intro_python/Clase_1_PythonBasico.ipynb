{
 "cells": [
  {
   "cell_type": "markdown",
   "id": "e44f5aae",
   "metadata": {},
   "source": [
    "# ¿Qué ventajas supone trabajar en Jupyter?\n",
    "\n",
    "\n",
    "- El código está dividido en _chunks_ (bloques) que se pueden correr por separado, o en conjunto en órdenes particulares.\n",
    "    - También se pueden reordernar rápidamente de ser necesario, o copiar/pegar/cortar bloques.\n",
    "- Jupyter permite el renderizado de imágenes directamente en el cuaderno. Dichas imágenes permanecen en el cuaderno mientras no se corra de nuevo el mismo bloque.\n",
    "- Es posible utilizar markdown para añadir texto formateado, imágenes, hipervínculos, etc.\n",
    "    - Pueden inclusive escribir en LaTeX dentro de markdown (o en gráficas).\n",
    "- Es más _beginner friendly_ cuando se trata de errores en el código respecto a una línea de comandos dada la habilidad de detener la ejecución de bloques o reiniciar el kernel.\n",
    "- Permite exportar los cuadernos en distintos formatos fácilmente (por ejemplo .py o .html).\n",
    "- Pueden inclusive usar R desde Jupyter.\n",
    "\n",
    "**Jupyter no es la única opción para trabajar en Python de forma interactiva.** Por ejemplo, PyCharm es otra opción, más parecida a un RStudio. En el curso usaremos Jupyter pero nuestra recomendación para su trabajo de investigación es que usen la interfaz que prefieran."
   ]
  },
  {
   "cell_type": "markdown",
   "id": "17993792",
   "metadata": {},
   "source": [
    "# Sintaxis (muy) básica de markdown\n",
    "\n",
    "En general no es necesario conocer markdown para usar Jupyter. En particular, para cuadernos de uso personal no muy largos pueden simplemente usar comentarios dentro de los bloques. Markdown puede servir para dividir secciones a partir de títulos en todo caso.\n",
    "\n",
    "Para cuadernos más explicativos (bien para referencia personal, bien para compartir) sirve para explicar la lógica u objetivo del código o porciones de él. \n",
    "\n",
    "Sea cual sea el caso el conocimiento requerido de markdown para Jupyter es bastante básico. Abajo les indicamos el mínimo de sintaxis que recomendamos conocer (y dónde buscar más)."
   ]
  },
  {
   "cell_type": "markdown",
   "id": "46fa33d9",
   "metadata": {},
   "source": [
    "## Encabezados\n",
    "\n",
    "Existen 6 níveles de encabezados. Para generar uno basta con usar entre 1 y 6 símbolos numeral (#) seguido de un espacio y el texto. Mientras menos numerales más grande.\n",
    "\n",
    "# Este es un encabezado muy grande.\n",
    "\n",
    "## Este es uno grande.\n",
    "\n",
    "##### Este es uno pequeño.\n",
    "\n",
    "###### Este es uno muy pequeño."
   ]
  },
  {
   "cell_type": "markdown",
   "id": "1aa94679",
   "metadata": {},
   "source": [
    "## Estilos de texto\n",
    "\n",
    "En markdown se pueden usar los siguientes estilos:\n",
    "\n",
    "- **Texto en negrilla, encerrado en dobles asteriscos.**\n",
    "- _Texto en itálica, encerrado en dos guiones bajos._\n",
    "- ***Texto en enfásis (negrilla e itálica) encerrado en triple asterisco.***\n",
    "- Asimismo es posible encasillar texto en formato markdown (incluídos títulos) en _blockquotes_ (cajas).\n",
    "> Basta con añadir un signo de mayor que al príncipio de cada línea. _Este texto puede estar formateado._\n",
    "\n",
    "`Finalmente puede generar bloques de código encerrando el texto en backsticks.`\n",
    "\n",
    "Nota: Si desean escribir cualquier carácter especial (que sea usado para formatear), se debe preceder de un backslash. Por ejemplo \\# o \\* ."
   ]
  },
  {
   "cell_type": "markdown",
   "id": "1ce5b5d2",
   "metadata": {},
   "source": [
    "## Hipervínculos e imágenes\n",
    "\n",
    "En caso de querer añadir un hipervínculo o una image es necesario indicar la ubicación del mismo. \n",
    "\n",
    "- Para imágenes se debe iniciar usando un signo de exclamación, seguido del título de la imagen en corchetes cuadrados, y la ubicación entre paréntesis).\n",
    "\n",
    "![Python](python.jpg)\n",
    "\n",
    "- Para hipervínculos es lo mismo, pero sin signo de exclamación.\n",
    "\n",
    "Si desean aprender más de markdown pueden revisar este link: [markdownGuide](https://www.markdownguide.org/basic-syntax/)"
   ]
  },
  {
   "cell_type": "markdown",
   "id": "260cfe62",
   "metadata": {},
   "source": [
    "# Bases de Python\n",
    "\n",
    "En general, en Python todo es una función o un objeto. Los objetos guardan información, las funciones modifican los objectos y/o producen nuevos.\n",
    "\n",
    "Los objetos se dividen en clases. Un objeto de una clase en particular puede tener funciones asociadas, como veremos más adelante, y tienen usos específicos. \n",
    "\n",
    "Los tipos de objectos básicos son:\n",
    "\n",
    "- _str_: cadenas de texto\n",
    "- _int_: números enteros\n",
    "- _double_: números decimales\n",
    "- _bool_: valores booleanos (únicamente pueden ser `True` o `False`).\n",
    "- _list_: conjuntos ordenados de objetos\n",
    "- _dict_: conjuntos no ordenados de parejas llave-valor \n",
    "\n",
    "Un objeto pueden ser asociado a una variable asignádole el nombre de la misma, aunque esto no es siempre necesario. \n",
    "\n",
    "***Es fundamental nunca usar nombres de clases de objetos como variables (e.g.: int = 2)***"
   ]
  },
  {
   "cell_type": "code",
   "execution_count": 10,
   "id": "fc9771ed",
   "metadata": {},
   "outputs": [],
   "source": [
    "#Nota: los comentarios se añaden precediéndolos por signos numeral, dentro de chunks de código.\n",
    "texto = \"Esto es un string\"\n",
    "entero = 8\n",
    "decimal = 9.5\n",
    "booleano = True\n",
    "lista = [1, 2, \"tres\", False]\n",
    "diccionario: {1: \"Primero\", \"Segundo\": 2}"
   ]
  },
  {
   "cell_type": "markdown",
   "id": "f34f85d2",
   "metadata": {},
   "source": [
    "Dos funciones básicas son `print` y `type`, que nos permiten imprimir un objeto y determinar la clase de un objeto."
   ]
  },
  {
   "cell_type": "code",
   "execution_count": 8,
   "id": "97d52c6a",
   "metadata": {},
   "outputs": [
    {
     "name": "stdout",
     "output_type": "stream",
     "text": [
      "Esto es un string\n",
      "Esto es un string\n",
      "<class 'str'>\n"
     ]
    }
   ],
   "source": [
    "print(\"Esto es un string\")\n",
    "print(texto)\n",
    "print(type(texto))"
   ]
  },
  {
   "cell_type": "markdown",
   "id": "f0dc567b",
   "metadata": {},
   "source": [
    "Es posible imprimir la salida de una función u operación sin necesidad de `print`, mientras sea la única línea de código en un bloque."
   ]
  },
  {
   "cell_type": "code",
   "execution_count": 9,
   "id": "db912953",
   "metadata": {},
   "outputs": [
    {
     "data": {
      "text/plain": [
       "str"
      ]
     },
     "execution_count": 9,
     "metadata": {},
     "output_type": "execute_result"
    }
   ],
   "source": [
    "type(texto)"
   ]
  },
  {
   "cell_type": "markdown",
   "id": "59b6cd6c",
   "metadata": {},
   "source": [
    "## Manejo de cadenas de texto\n",
    "\n",
    "Uno de los fuertes de Python es el manejo de cadenas de texto. Se pueden ver como un tipo especial de lista (ver más abajo), con una serie de funciones y operaciones particulares integradas.\n",
    "\n",
    "Las operaciones integradas son unión (+), repetición (\\*), y contiene (`in`)."
   ]
  },
  {
   "cell_type": "code",
   "execution_count": 17,
   "id": "3b708ec2",
   "metadata": {},
   "outputs": [
    {
     "name": "stdout",
     "output_type": "stream",
     "text": [
      "Apágame la vela,¡Maria!\n"
     ]
    }
   ],
   "source": [
    "#Usaremos dos cadenas de texto para demostrar las operaciones integradas.\n",
    "str1 = \"Apágame la vela,\"\n",
    "str2 = \"¡Maria!\"\n",
    "\n",
    "print(str1+str2)"
   ]
  },
  {
   "cell_type": "code",
   "execution_count": 14,
   "id": "9fdb1add",
   "metadata": {},
   "outputs": [
    {
     "name": "stdout",
     "output_type": "stream",
     "text": [
      "Apágame la vela, ¡Maria! Apágame la vela, ¡Maria! Apágame la vela, ¡Maria! Apágame la vela, ¡Maria! Apágame la vela, ¡Maria! \n"
     ]
    }
   ],
   "source": [
    "str1 = \"Apágame la vela, ¡Maria! \"\n",
    "\n",
    "print(str1*5)"
   ]
  },
  {
   "cell_type": "code",
   "execution_count": 16,
   "id": "109a82a0",
   "metadata": {},
   "outputs": [
    {
     "name": "stdout",
     "output_type": "stream",
     "text": [
      "True\n"
     ]
    }
   ],
   "source": [
    "str1 = \"Apágame la vela, ¡Maria! \"\n",
    "str2 = \"Maria\"\n",
    "\n",
    "print(str2 in str1)"
   ]
  },
  {
   "cell_type": "markdown",
   "id": "df413244",
   "metadata": {},
   "source": [
    "Existen numerosas funciones integradas (_built-in functions_) para strings. Algunas de ellas son:\n",
    "\n",
    "- `replace` permite reemplazar porciones del string.\n",
    "- `find` permite identificar si un string se encuentra dentro de otro, y `count` cuántas veces ocurre.\n",
    "- `startswith` y `endswith` permiten determinar si un string iniciar o termina con otro.\n",
    "- `capitalize`, `lower`, `upper`, `swapcase` y `title` permiten ajustar mayúsculas y minúsculas.\n",
    "\n",
    "Algunas otras funciones las pueden encontrar [aquí](https://realpython.com/python-strings/).\n",
    "\n",
    "Las funciones integradas se llaman añadiendo un punto al final de la variable u objeto, seguido del nombre de la función y entre paréntesis los parámetros."
   ]
  },
  {
   "cell_type": "code",
   "execution_count": 32,
   "id": "f85727c7",
   "metadata": {},
   "outputs": [
    {
     "name": "stdout",
     "output_type": "stream",
     "text": [
      "RaRaRasputin\n",
      "RaRaRasputin\n"
     ]
    }
   ],
   "source": [
    "#Veamos ejemplos de algunas de estas funciones.\n",
    "str1 = \"Rararasputin\"\n",
    "print(str1.replace(\"ra\",\"Ra\"))\n",
    "print(\"Rararasputin\".replace(\"ra\",\"Ra\"))"
   ]
  },
  {
   "cell_type": "code",
   "execution_count": 22,
   "id": "a5504253",
   "metadata": {},
   "outputs": [
    {
     "name": "stdout",
     "output_type": "stream",
     "text": [
      "0\n",
      "1\n"
     ]
    }
   ],
   "source": [
    "#Si find arroja un número, eso indica que encontró el string.\n",
    "print(str1.find(\"Ra\"))\n",
    "#Si count arroja un valor mayor a 0, eso indica que encontró el string.\n",
    "print(str1.count(\"Ra\"))"
   ]
  },
  {
   "cell_type": "code",
   "execution_count": 24,
   "id": "8c9d050e",
   "metadata": {},
   "outputs": [
    {
     "name": "stdout",
     "output_type": "stream",
     "text": [
      "False\n",
      "True\n"
     ]
    }
   ],
   "source": [
    "#startswith y endswith arrojan booleanos.\n",
    "print(str1.startswith(\"tin\"))\n",
    "print(str1.endswith(\"tin\"))"
   ]
  },
  {
   "cell_type": "code",
   "execution_count": 31,
   "id": "70fd309b",
   "metadata": {},
   "outputs": [
    {
     "name": "stdout",
     "output_type": "stream",
     "text": [
      "RARARASPUTIN\n",
      "rararasputin\n",
      "Rararasputin\n",
      "RARARASpUTIN\n"
     ]
    }
   ],
   "source": [
    "#Las funciones de ajuste de mayúsculas y minúsculas arrojan un string como resultado.\n",
    "str1 = \"rararasPutin\"\n",
    "#Mayúscula\n",
    "print(str1.upper())\n",
    "#Minúscula\n",
    "print(str1.lower())\n",
    "#Capitalización\n",
    "print(str1.title())\n",
    "#Cambio de mayúsculas por minúsculas y viceversa.\n",
    "str2 = str1.swapcase()\n",
    "print(str2)"
   ]
  },
  {
   "cell_type": "markdown",
   "id": "34bc3ea0",
   "metadata": {},
   "source": [
    "**Si quieren imprimir una serie de strings junto a uno o más números, deben convertir los números en strings usando str.**"
   ]
  },
  {
   "cell_type": "code",
   "execution_count": 2,
   "id": "150025d0",
   "metadata": {},
   "outputs": [
    {
     "name": "stdout",
     "output_type": "stream",
     "text": [
      "El resultado de sumar 2 y 3 es 5\n"
     ]
    }
   ],
   "source": [
    "print(\"El resultado de sumar \" + str(2) + \" y \" + str(3) + \" es \" + str(5))"
   ]
  },
  {
   "cell_type": "markdown",
   "id": "7f457982",
   "metadata": {},
   "source": [
    "**Existen otras funciones integradas de strings que son compartidas con las listas. Estas las veremos más abajo.**"
   ]
  },
  {
   "cell_type": "markdown",
   "id": "daf798ee",
   "metadata": {},
   "source": [
    "## Operaciones numéricas\n",
    "\n",
    "Los objetos int y double pueden usarse para llevar a cabo operaciones numéricas básicas. _Las operaciones entre int y double siempre generan un double. Asimismo, la división de un int por un int siempre genera un double._\n",
    "\n",
    "Para convertir un int en un double o un double en un int se usan las funciones `int` y `double` respectivamente.\n",
    "\n",
    "Con la excepción de la operación exponente y módulo, los símbolos de las operaciones son los que usarían en una calculadora."
   ]
  },
  {
   "cell_type": "code",
   "execution_count": 34,
   "id": "7b9a9149",
   "metadata": {},
   "outputs": [
    {
     "name": "stdout",
     "output_type": "stream",
     "text": [
      "14.5\n",
      "-6.5\n",
      "9\n"
     ]
    }
   ],
   "source": [
    "entero = 4\n",
    "decimal = 10.5\n",
    "\n",
    "#Suma y resta\n",
    "print(entero+decimal)\n",
    "print(entero-decimal)\n",
    "print(4+5)"
   ]
  },
  {
   "cell_type": "code",
   "execution_count": 35,
   "id": "d135e6fe",
   "metadata": {},
   "outputs": [
    {
     "name": "stdout",
     "output_type": "stream",
     "text": [
      "42.0\n",
      "2.625\n"
     ]
    }
   ],
   "source": [
    "#Multiplicación y división\n",
    "print(entero*decimal)\n",
    "print(decimal/entero)"
   ]
  },
  {
   "cell_type": "code",
   "execution_count": 36,
   "id": "bca34d8b",
   "metadata": {},
   "outputs": [
    {
     "name": "stdout",
     "output_type": "stream",
     "text": [
      "12155.0625\n",
      "3\n"
     ]
    }
   ],
   "source": [
    "#Exponenciación y módulo (la última solo para ints)\n",
    "print(decimal**entero)\n",
    "print(15 % 4)"
   ]
  },
  {
   "cell_type": "markdown",
   "id": "6935a112",
   "metadata": {},
   "source": [
    "## Listas\n",
    "\n",
    "Las listas son conjunto de objectos en una disposición ordenadas. Dentro de una lista puede haber cualquier tipo básico de objeto (incluyendo otras listas y diccionarios). Las listas se diferencian al estar encerradas por corchetes cuadrados ( \\[\\] ), y sus elementos se separan por comas.\n",
    "\n",
    "Así como para los strings, las listas pueden concatenarse con la operación +. Dos funciones integradas que permiten asimismo añadir elementos a una lista son:\n",
    "\n",
    "- `append`, que permite añadir nuevos elementos al final de la lista.\n",
    "- `extend`, que permite concatenar una lista al final de otra. Es distinto a + en tanto que la lista que llama el método se extiende directamente (ver más abajo para un ejemplo)."
   ]
  },
  {
   "cell_type": "code",
   "execution_count": 37,
   "id": "bc535d18",
   "metadata": {},
   "outputs": [],
   "source": [
    "#Una lista se puede definir vacia o con elementos.\n",
    "vacia = []\n",
    "llena = [\"Texto\", 2, 2.5, [\"Otro Texto\"]]\n",
    "otraLista = [4, 5, 6]"
   ]
  },
  {
   "cell_type": "code",
   "execution_count": 38,
   "id": "9b284fd1",
   "metadata": {},
   "outputs": [
    {
     "name": "stdout",
     "output_type": "stream",
     "text": [
      "['Texto', 2, 2.5, ['Otro Texto'], 4, 5, 6]\n"
     ]
    }
   ],
   "source": [
    "#Si se concatenan dos listas con el operador +, el resultado es otra lista.\n",
    "print(llena + otraLista)"
   ]
  },
  {
   "cell_type": "code",
   "execution_count": 40,
   "id": "bd1ee085",
   "metadata": {},
   "outputs": [
    {
     "name": "stdout",
     "output_type": "stream",
     "text": [
      "['Texto', 2, 2.5, ['Otro Texto'], 4, 5, 6]\n"
     ]
    }
   ],
   "source": [
    "#Si se usa extend, la primera lista es la que cambia.\n",
    "llena.extend(otraLista)\n",
    "print(llena)"
   ]
  },
  {
   "cell_type": "code",
   "execution_count": 41,
   "id": "31d125be",
   "metadata": {},
   "outputs": [
    {
     "name": "stdout",
     "output_type": "stream",
     "text": [
      "['elemento']\n",
      "['elemento', [4, 5, 6]]\n"
     ]
    }
   ],
   "source": [
    "#Append sirve para añadir elementos individuales (esto incluye listas).\n",
    "vacia = []\n",
    "vacia.append(\"elemento\")\n",
    "print(vacia)\n",
    "vacia.append(otraLista)\n",
    "print(vacia)"
   ]
  },
  {
   "cell_type": "markdown",
   "id": "d3ac09bf",
   "metadata": {},
   "source": [
    "### Indexado en Python\n",
    "\n",
    "Para entender las demás funciones es necesario explicar la forma en que se indexan elementos en Python. Este procedimiento es requerido para acceder a elementos o conjuntos de elementos en ubicaciones epecíficas en listas, strings, matrices y vectores.\n",
    "\n",
    "El indexado en Python posee las siguientes características:\n",
    "- El indexado se indica entre corchetes cuadrados ( \\[\\] ).\n",
    "- ***Inicia desde 0 (pero ver abajo)***. Es decir, el primer elemento tiene índice 0, el segundo índice 1, etc\n",
    "- Para seleccionar conjuntos de elementos se usa la sintaxis `inicio:fin:aumento`. \n",
    "  - Inicio es el índice del primer elemento (por defecto el primero de la lista).\n",
    "  - Fin es el índice del último (por defecto el último de la lista, ver más abajo).\n",
    "  - Aumento indica cuál es la distancia entre el índice de elementos sucesivos (por defecto 1, ver ejemplo más abajo).\n",
    "  - Este indexado inclusivo a la izquierda y exclusivo a la derecha. Es decir, se toma el primer elemento pero no el último (ver más abajo).\n",
    "- Si se desea indexar desde el final, se usan números negativos. ***En este caso se inicia desde -1.*** El elemento -1 es el último, el -2 el penúltimo, etc.  \n",
    "\n",
    "Al momento de indexar es útil utilizar la función `len`, que arroja como resultado el largo de una lista, string, o diccionario (entre otros)."
   ]
  },
  {
   "cell_type": "markdown",
   "id": "1a51bf7f",
   "metadata": {},
   "source": [
    "#Veamos unos ejemplos de indexado.\n",
    "llena = [\"Texto\",2,2.5,[\"Otro Texto\",24],\"Quinze\",38.2,29,True]\n",
    "#Usemos len para saber qué tan larga es la lista.\n",
    "print(len(llena))"
   ]
  },
  {
   "cell_type": "code",
   "execution_count": 46,
   "id": "f27131dd",
   "metadata": {},
   "outputs": [
    {
     "name": "stdout",
     "output_type": "stream",
     "text": [
      "2\n",
      "['Otro Texto', 24]\n",
      "True\n",
      "True\n"
     ]
    }
   ],
   "source": [
    "#Ahora intentemos indexar elementos individuales.\n",
    "#Segundo elemento.\n",
    "print(llena[1])\n",
    "#Cuarto elemento.\n",
    "print(llena[3])\n",
    "#Último elemento.\n",
    "print(llena[-1])\n",
    "#Último elemento usando len.\n",
    "print(llena[len(llena)-1])"
   ]
  },
  {
   "cell_type": "code",
   "execution_count": 52,
   "id": "63d0fc1f",
   "metadata": {},
   "outputs": [
    {
     "name": "stdout",
     "output_type": "stream",
     "text": [
      "['Texto', 2, 2.5, ['Otro Texto', 24]]\n",
      "['Texto', 2.5]\n",
      "['Texto', 2.5, 'Quinze', 29]\n"
     ]
    }
   ],
   "source": [
    "#Finalmente indexemos conjuntos de elementos.\n",
    "#Primeros 4 elementos. Noten que se usa 4 dado que el indexado es exclusivo a la derecha.\n",
    "print(llena[0:4])\n",
    "#Primer y tercer elemento. Noten que se usa 4 dado que el indexado es exclusivo a la derecha.\n",
    "print(llena[0:4:2])\n",
    "#Cada tercer elemento hasta donde sea posible (noten que el valor de Inicio y de Fin se omite).\n",
    "print(llena[::2])"
   ]
  },
  {
   "cell_type": "code",
   "execution_count": 57,
   "id": "cc622877",
   "metadata": {},
   "outputs": [
    {
     "name": "stdout",
     "output_type": "stream",
     "text": [
      "[True, 38.2, ['Otro Texto', 24], 2]\n"
     ]
    }
   ],
   "source": [
    "#Es posible indexar con números negativos.\n",
    "print(llena[-1:-len(llena):-2])"
   ]
  },
  {
   "cell_type": "code",
   "execution_count": 59,
   "id": "6f05f147",
   "metadata": {},
   "outputs": [
    {
     "name": "stdout",
     "output_type": "stream",
     "text": [
      "24\n"
     ]
    }
   ],
   "source": [
    "#Asimismo es posible indexar una lista dentro de otra individualmente, y luego indexar en la segunda.\n",
    "llena = [\"Texto\",2,2.5,[\"Otro Texto\",24],\"Quinze\",38.2,29,True]\n",
    "print(llena[3][1])"
   ]
  },
  {
   "cell_type": "markdown",
   "id": "8ba06aa9",
   "metadata": {},
   "source": [
    "## Más sobre listas\n",
    "\n",
    "Habiendo visto cómo funciona el indexado, veamos algunas funciones de listas que se valen de este:\n",
    "- `insert` permite insertar un elemento en el índice especificado.\n",
    "- `remove` permite la primera instancia encontrada del elemento especificado.\n",
    "- `pop` permite extraer un elemento de la lista con base en su posición.\n",
    "- `sort` sortea la lista (este cambio se guarda en la variable). ***Únicamente aplica para listas de solo strings o solo números***.\n",
    "- `reverse` reversa el orden de la lista (este cambio se guarda en la variable).\n",
    "- Las función `index` que vimos arriba en strings se puede usar en listas y su funcionamiento es el mismo.\n",
    "\n",
    "Pueden encontrar otras funciones [aquí](https://www.pythonlist.info/#d-remove). Existe otra función de interés, `zip`, que veremos más adelante al hablar de ciclos."
   ]
  },
  {
   "cell_type": "code",
   "execution_count": 68,
   "id": "8147af20",
   "metadata": {},
   "outputs": [
    {
     "name": "stdout",
     "output_type": "stream",
     "text": [
      "['Texto', 'Texto', 2, 2.5, ['Otro Texto', 24], 'Quinze', 38.2, 29, True]\n",
      "['Texto', 2, 2.5, ['Otro Texto', 24], 'Quinze', 38.2, 29, True]\n",
      "True\n",
      "['Texto', 2, 2.5, ['Otro Texto', 24], 'Quinze', 38.2, 29]\n",
      "4\n"
     ]
    }
   ],
   "source": [
    "# Ensayemos las funciones con la misma lista de ejemplo.\n",
    "llena = [\"Texto\",2,2.5,[\"Otro Texto\",24],\"Quinze\",38.2,29,True]\n",
    "\n",
    "#Insertar un elemento en la primera posición.\n",
    "llena.insert(0,\"Texto\")\n",
    "print(llena)\n",
    "\n",
    "#Remover la primera instancia de un elemento.\n",
    "llena.remove(\"Texto\")\n",
    "print(llena)\n",
    "\n",
    "#Extraer un elemento (este se puede guardar en una variable).\n",
    "elemento = llena.pop(-1)\n",
    "print(elemento)\n",
    "print(llena)\n",
    "\n",
    "#Buscar un elemento.\n",
    "print(llena.index(\"Quinze\"))"
   ]
  },
  {
   "cell_type": "code",
   "execution_count": 65,
   "id": "18e13a40",
   "metadata": {},
   "outputs": [
    {
     "name": "stdout",
     "output_type": "stream",
     "text": [
      "[2, 9, 3, 24.5]\n",
      "[24.5, 3, 9, 2]\n"
     ]
    }
   ],
   "source": [
    "#sort y reverse operan sobre la lista.\n",
    "numeros = [3,9,2,24.5]\n",
    "print(numeros)\n",
    "numeros.reverse()\n",
    "print(numeros)"
   ]
  },
  {
   "cell_type": "markdown",
   "id": "0b635630",
   "metadata": {},
   "source": [
    "## Diccionarios\n",
    "\n",
    "Contrario a las listas, los diccionarios no tienen un orden específico (aunque ver más abajo). Se componen de pares de elementos llave-valor. La llave se usa para llamar su valor asociado. Se diferencian al estar encerrados por corchetes ( \\{\\} ).\n",
    "\n",
    "Dado que no tienen un orden, no existe posibilidad de indexado. Los valores dentro del diccionario se recuperan usando sus llaves. **Las llaves pueden ser strings o ints, mientras que los valores pueden ser strings, ints, doubles, booleanos, listas, u otros diccionarios**.\n",
    "\n",
    "Al momento de crear un diccionario, las parejas llave-valor se separan por comas. Las llaves se separan de los valores por dos puntos. **Las llaves no se pueden repetir, solo los valores. Si se usa el mismo valor en un nueva pareja llave-valor, la original es removida.**"
   ]
  },
  {
   "cell_type": "code",
   "execution_count": 69,
   "id": "028d360f",
   "metadata": {},
   "outputs": [],
   "source": [
    "#Un diccionario se puede definir vacio o lleno.\n",
    "dicti = {}\n",
    "dictiLleno = {1:34,\"Segundo\":[2,3,4],20:{\"Otro\":\"Este\"}}"
   ]
  },
  {
   "cell_type": "markdown",
   "id": "ac1d4c8d",
   "metadata": {},
   "source": [
    "Tanto para añadir elementos a un diccionario como para acceder a un valor se usan corchetes cuadrados."
   ]
  },
  {
   "cell_type": "code",
   "execution_count": 71,
   "id": "c0b8c70b",
   "metadata": {},
   "outputs": [
    {
     "name": "stdout",
     "output_type": "stream",
     "text": [
      "99\n",
      "20\n"
     ]
    }
   ],
   "source": [
    "#Para añadir elementos se indica la llave entre corchetes cuadrados, y el valor tras un símbolo igual.\n",
    "dictiLleno[\"Nuevo\"] = 99\n",
    "#Para llamar un elemento únicamente usamos la llave, de nuevo entre corchetes cuadrados.\n",
    "print(dictiLleno[\"Nuevo\"])\n",
    "#Si uso la misma llave con otro valor, se pierde el primero.\n",
    "dictiLleno[\"Nuevo\"] = 20\n",
    "print(dictiLleno[\"Nuevo\"])"
   ]
  },
  {
   "cell_type": "markdown",
   "id": "289f9376",
   "metadata": {},
   "source": [
    "Algunas funciones relevantes de diccionarios son:\n",
    "- `get` permite obtener el valor asociado a una llave.\n",
    "- `update` añade un diccionario a otro (similar a `extend` en listas).\n",
    "- `pop` extrae el valor asociado a una llave del diccionario (funciona igual que en listas).\n",
    "- `keys` retorna un iterable con las llaves en el diccionario. Este se puede convertir en una lista con la función `list`.\n",
    "- `values` retorna un iterable con los valores en el diccionario. Este se puede convertir en una lista con la función `list`.\n",
    "\n",
    "Veremos qué es un iterable más adelante. Pueden consultar otras funciones [aquí](https://www.w3schools.com/python/python_ref_dictionary.asp). Existe otra función relevante, `items`, que veremos al hablar de ciclos."
   ]
  },
  {
   "cell_type": "code",
   "execution_count": 79,
   "id": "98d13794",
   "metadata": {},
   "outputs": [
    {
     "name": "stdout",
     "output_type": "stream",
     "text": [
      "34\n",
      "{1: 34, 'Segundo': [2, 3, 4], 20: {'Otro': 'Este'}, 'Adicional': 3, 4: [True, False]}\n",
      "[2, 3, 4]\n",
      "{1: 34, 20: {'Otro': 'Este'}, 'Adicional': 3, 4: [True, False]}\n"
     ]
    }
   ],
   "source": [
    "dictiLleno = {1:34,\"Segundo\":[2,3,4],20:{\"Otro\":\"Este\"}}\n",
    "#Se puede usar get como alternativa para obtener un valor.\n",
    "print(dictiLleno.get(1))\n",
    "#Update permite añadir varias parejas llave-valor al tiempo\n",
    "dictiLleno.update({\"Adicional\":3,4:[True,False]})\n",
    "print(dictiLleno)\n",
    "\n",
    "#Si quiero extraer un elemento se usa pop, como en listas.\n",
    "elemento = dictiLleno.pop(\"Segundo\")\n",
    "print(elemento)\n",
    "print(dictiLleno)"
   ]
  },
  {
   "cell_type": "code",
   "execution_count": 83,
   "id": "4dae5d17",
   "metadata": {},
   "outputs": [
    {
     "name": "stdout",
     "output_type": "stream",
     "text": [
      "dict_keys([1, 20, 'Adicional', 4])\n",
      "[1, 20, 'Adicional', 4]\n",
      "[34, {'Otro': 'Este'}, 3, [True, False]]\n"
     ]
    }
   ],
   "source": [
    "#Para obtener la lista de llaves y valores se usa keys o values, respectivamente, y se usa la función list para\n",
    "#convertirlos en listas.\n",
    "print(dictiLleno.keys())\n",
    "print(list(dictiLleno.keys()))\n",
    "print(list(dictiLleno.values()))"
   ]
  },
  {
   "cell_type": "markdown",
   "id": "aa8c7cfa",
   "metadata": {},
   "source": [
    "# Funciones personalizadas\n",
    "\n",
    "Es posible definir funciones personalizadas en python. Estas toman una serie de valores iniciales, o parámetros, y realizan una serie de operaciones, retornando y/o imprimiendo un valor, o modificando algún objeto.\n",
    "\n",
    "La síntaxis de una función es:\n",
    "> `def nombre(parámetro1 = valor1, parámetro2 = valor2, ...):`\n",
    ">\n",
    "> (tab) `acciones`\n",
    ">\n",
    ">\n",
    "> (tab)   `...`\n",
    ">    \n",
    "> (tab)   `return salida`\n",
    "\n",
    "_Los parámetros pueden o no tener valores por defecto. Asimismo, una función puede no retornar nada._"
   ]
  },
  {
   "cell_type": "code",
   "execution_count": 3,
   "id": "8a1e5015",
   "metadata": {},
   "outputs": [
    {
     "name": "stdout",
     "output_type": "stream",
     "text": [
      "22\n"
     ]
    }
   ],
   "source": [
    "#Las funciones se definen usando def. Los parámetros van entre paréntesis y las líneas de la función tabuladas.\n",
    "#Lo que retorna la función debe ir en la última línea de la función.\n",
    "def punto(x):\n",
    "    y = 5*x-3\n",
    "    return y\n",
    "\n",
    "#Después de definida la función se puede correr con un valor particular.\n",
    "print(punto(5))"
   ]
  },
  {
   "cell_type": "code",
   "execution_count": 4,
   "id": "3cbac981",
   "metadata": {},
   "outputs": [
    {
     "name": "stdout",
     "output_type": "stream",
     "text": [
      "27\n"
     ]
    }
   ],
   "source": [
    "#Ahora bien, ¿y si queremos que la función imprima el resultado y no retorne nada?\n",
    "def punto(x):\n",
    "    y = 5*x-3\n",
    "    print(y)\n",
    "\n",
    "punto(6)"
   ]
  },
  {
   "cell_type": "code",
   "execution_count": 6,
   "id": "7f5dedeb",
   "metadata": {},
   "outputs": [
    {
     "name": "stdout",
     "output_type": "stream",
     "text": [
      "32\n",
      "-4\n",
      "-45\n"
     ]
    }
   ],
   "source": [
    "#Imaginemos que queremos extender la función a cualquier recta, pero por defecto la que estamos usando.\n",
    "def punto(x,m=5,b=-3):\n",
    "    y = x*m+b\n",
    "    print(y)\n",
    "    \n",
    "#Dado que x no tiene un valor predeterminado, necesito especificarlo.\n",
    "punto(7)\n",
    "\n",
    "#Los parámetros se deben indicar en orden, o bien especificar qué valor corresponde a cuál si no se van a indicar todos.\n",
    "punto(-2,2,0)\n",
    "punto(-10,b=5)"
   ]
  },
  {
   "cell_type": "markdown",
   "id": "40c535d0",
   "metadata": {},
   "source": [
    "Una función puede tener más de una salida. Las salidas múltiples deben separarse por comas y deben indexarse para poder recuperar cada elemento individual."
   ]
  },
  {
   "cell_type": "code",
   "execution_count": 39,
   "id": "898d2133",
   "metadata": {},
   "outputs": [
    {
     "name": "stdout",
     "output_type": "stream",
     "text": [
      "37\n",
      "4.6\n"
     ]
    }
   ],
   "source": [
    "#¿Qué tal si queremos aplicar la función y su función inversa?\n",
    "def punto(x,m=5,b=-3):\n",
    "    y = x*m+b\n",
    "    y_inv = x/m - b\n",
    "    return y,y_inv\n",
    "\n",
    "resultado = punto(8)\n",
    "\n",
    "#Para obtener cada resultado individual indexamos.\n",
    "print(resultado[0])\n",
    "print(resultado[1])"
   ]
  },
  {
   "cell_type": "markdown",
   "id": "a437a490",
   "metadata": {},
   "source": [
    "Estrictamente hablando la salida en este caso es una tupla, otro tipo de iterable. Para los fines del curso lo importante es entender que se indexa de la misma forma que una lista."
   ]
  },
  {
   "cell_type": "markdown",
   "id": "65e4e37d",
   "metadata": {},
   "source": [
    "# Ciclos y Condicionales\n",
    "\n",
    "El kernel de cualquier lenguaje de programación es el uso de ciclos y de condicionales. Veamos primero los condicionales."
   ]
  },
  {
   "cell_type": "markdown",
   "id": "e3890416",
   "metadata": {},
   "source": [
    "## Condicionales\n",
    "\n",
    "Permiten evaluar la verdad o falsedad de relaciones entre las variables y objetos con las que se está trabajando. Es posible evaluar más de una condición, u evaluar una o varias condiciones en contigencia a otra (`else`/`else if`).\n",
    "\n",
    "La estructura más sencilla posible de un condicional es:\n",
    "\n",
    "> `if condicion(es):`\n",
    ">\n",
    "> (tab) `acciones`\n",
    "\n",
    "Mientras que una sintaxis más completa sería la siguiente:\n",
    "\n",
    "> `if condicion(es):`\n",
    ">\n",
    "> (tab) `acciones`\n",
    ">\n",
    ">`elif condicion(es):`\n",
    ">\n",
    "> (tab) `otras acciones`\n",
    ">\n",
    ">`else:`\n",
    ">\n",
    ">(tab) `otras acciones`\n",
    "\n",
    "**Nótese que un elif solo se evalúa si la condición(es) del if inicial son falsas.** _Es posible añadir más de un else if de ser necesario._\n",
    "\n",
    "**Por su parte, un else solo se evalúa si todas las condiciones arriba del mismo (if y else if) son falsas.** _Solo puede haber un else por condicional._"
   ]
  },
  {
   "cell_type": "markdown",
   "id": "25e61f8e",
   "metadata": {},
   "source": [
    "### Operadores lógicos\n",
    "\n",
    "Una condición a evaluar debe arrojar un resultado booleano (`True`/`False`). Para generar estos resultados se emplean operadores lógicos, que en Python son los siguientes:\n",
    "\n",
    "- `and`: _A and B_ es cierto si A y B son ciertos.\n",
    "- `or`: _A or B_ es cierto si A o B son ciertos.\n",
    "- `not`: _not A_ es cierto si A no es cierto.\n",
    "- `==`: igual a\n",
    "- `>`: mayor que\n",
    "- `<`: menor que\n",
    "- `>=`: mayor o igual que\n",
    "- `<=`: menor o igual que"
   ]
  },
  {
   "cell_type": "code",
   "execution_count": 8,
   "id": "4ee1bb16",
   "metadata": {},
   "outputs": [],
   "source": [
    "#Habiendo visto esto veamos unos ejemplos de condicionales.\n",
    "#Un condicional simple sería el siguiente. Noten que si la condición es falsa no se imprime nada.\n",
    "\n",
    "a = -3\n",
    "if a > 0:\n",
    "    print(str(a) + \" es positivo\")"
   ]
  },
  {
   "cell_type": "code",
   "execution_count": 9,
   "id": "e47d68e8",
   "metadata": {},
   "outputs": [
    {
     "name": "stdout",
     "output_type": "stream",
     "text": [
      "-3 es negativo\n"
     ]
    }
   ],
   "source": [
    "#Podemos volver más elaborado el condicional usando else if y else, con el fin de producir más resultado.\n",
    "\n",
    "a = -3\n",
    "if a > 0:\n",
    "    print(str(a) + \" es positivo\")\n",
    "elif a == 0:\n",
    "    print(str(a) + \" es cero\")\n",
    "else:\n",
    "    print(str(a) + \" es negativo\")"
   ]
  },
  {
   "cell_type": "code",
   "execution_count": 11,
   "id": "22d70b3a",
   "metadata": {},
   "outputs": [
    {
     "name": "stdout",
     "output_type": "stream",
     "text": [
      "15 es positivo y mayor a 10\n"
     ]
    }
   ],
   "source": [
    "#Los operadores lógicos and, or y not permiten evaluar condiciones más complejas.\n",
    "\n",
    "a = 15\n",
    "if a > 0 and a > 10:\n",
    "    print(str(a) + \" es positivo y mayor a 10\")\n",
    "elif a > 0:\n",
    "    print(str(a) + \" es positivo y menor a 10\")\n",
    "elif a == 0:\n",
    "    print(str(a) + \" es cero\")\n",
    "else:\n",
    "    print(str(a) + \" es negativo\")"
   ]
  },
  {
   "cell_type": "markdown",
   "id": "b32c0b4f",
   "metadata": {},
   "source": [
    "## Ciclos\n",
    "\n",
    "A través de un ciclo se puede realizar una operación múltiples veces con distintos valores. Los ciclos pueden construirse a partir de un valor (`for`) o a partir de una condición (`while`). La estructura de los dos es similar. Para ciclos `for`:\n",
    "\n",
    "> `for valor in (conjunto):`\n",
    ">\n",
    "> (tab) `acciones`\n",
    "\n",
    "**En general el valor puede ser un índice o un elemento de un iterable (e.g.: de una lista).** Veremos ejemplos de ambos casos más abajo. Si es un índice se suele usar `i` como nombre, pero puede usarse cualquier posible nombre de variable.\n",
    "\n",
    "Para ciclos `while`:\n",
    "\n",
    "> `while condicion:`\n",
    ">\n",
    "> (tab) `acciones`\n",
    "\n",
    "Donde la condición usada tiene la misma estructura que se usaría para cualquier condicional."
   ]
  },
  {
   "cell_type": "markdown",
   "id": "f51dc998",
   "metadata": {},
   "source": [
    "### Ciclos for con índices y función range\n",
    "\n",
    "En ciclos `for` con índices es frecuente usar la función `range` para determinar el rango de valores que el índice puede tomar. `range(inicio,fin,paso)` genera una iterable en el rango indicado desde inicio (0 por defecto) hasta el fin con el tamaño de paso indicado (1 por defecto). \n",
    "\n",
    "_Así como en el indexado, el rango producida por esta función es inclusiva a la izquierda y exclusiva a la derecha._"
   ]
  },
  {
   "cell_type": "code",
   "execution_count": 15,
   "id": "8bab57c6",
   "metadata": {
    "scrolled": false
   },
   "outputs": [
    {
     "name": "stdout",
     "output_type": "stream",
     "text": [
      "1\n",
      "4\n",
      "9\n",
      "16\n",
      "25\n",
      "36\n",
      "49\n",
      "64\n",
      "81\n",
      "100\n"
     ]
    }
   ],
   "source": [
    "#Por ejemplo, si se desea imprimir el cuadrados de los números de 1 a 10.\n",
    "for i in range(1,11):\n",
    "    print(i**2)"
   ]
  },
  {
   "cell_type": "code",
   "execution_count": 16,
   "id": "dda4f9c9",
   "metadata": {
    "scrolled": true
   },
   "outputs": [
    {
     "name": "stdout",
     "output_type": "stream",
     "text": [
      "9\n",
      "36\n",
      "81\n",
      "144\n",
      "225\n",
      "324\n"
     ]
    }
   ],
   "source": [
    "#¿Qué tal si quiero el cuadrado de solo los múltiplos de 3 menores a 20?\n",
    "for i in range(3,20,3):\n",
    "    print(i**2)"
   ]
  },
  {
   "cell_type": "markdown",
   "id": "77bd510e",
   "metadata": {},
   "source": [
    "### Ciclos for de listas\n",
    "\n",
    "Es posible iterar sobre listas sin necesidad de un índice. Simplemnte se asigna directamente el valor de cada elemento de la lista."
   ]
  },
  {
   "cell_type": "code",
   "execution_count": 19,
   "id": "2b716e69",
   "metadata": {},
   "outputs": [
    {
     "name": "stdout",
     "output_type": "stream",
     "text": [
      "Se necesita comprar Pan\n",
      "Se necesita comprar Queso\n",
      "Se necesita comprar Leche\n",
      "Se necesita comprar Huevos\n"
     ]
    }
   ],
   "source": [
    "compras = [\"Pan\",\"Queso\",\"Leche\",\"Huevos\"]\n",
    "for cosa in compras:\n",
    "    print(\"Se necesita comprar\", cosa)"
   ]
  },
  {
   "cell_type": "markdown",
   "id": "10c00d56",
   "metadata": {},
   "source": [
    "### Ciclos while\n",
    "\n",
    "En los ciclos `while` se debe usar una condición (puede ser simple o compleja).\n",
    "\n",
    "_Un consejo para ciclos `while` usando un índice: pueden sumar 1 a un entero con la sintaxis `+= 1`. Esto sirve para sumar cualquier entero a otro._"
   ]
  },
  {
   "cell_type": "code",
   "execution_count": 24,
   "id": "f8d4ba7a",
   "metadata": {},
   "outputs": [
    {
     "name": "stdout",
     "output_type": "stream",
     "text": [
      "Se necesita comprar Pan\n",
      "Se necesita comprar Queso\n",
      "Se necesita comprar Leche\n",
      "Se necesita comprar Huevos\n",
      "Se necesita comprar Jamón\n",
      "Hay más cosas por comprar después.\n"
     ]
    }
   ],
   "source": [
    "#Digamos que no puedo cargar más de 5 cosas a la vez de la tienda.\n",
    "compras = [\"Pan\",\"Queso\",\"Leche\",\"Huevos\",\"Jamón\",\"Café\"]\n",
    "#¡Cuidado con el indexado! Se inicia en 0 y va hasta 4 inclusive.\n",
    "i = 0\n",
    "while i <= 4:\n",
    "    print(\"Se necesita comprar\", compras[i])\n",
    "    i += 1\n",
    "    \n",
    "if i > 4:\n",
    "    print(\"Hay más cosas por comprar después.\")\n",
    "else:\n",
    "    print(\"Eso es todo lo que hay que comprar.\")"
   ]
  },
  {
   "cell_type": "markdown",
   "id": "ee406778",
   "metadata": {},
   "source": [
    "#### ¡Cuidado con los ciclos infinitos!\n",
    "\n",
    "Un ciclo que nunca termina se conoce como ciclo infinito. Esto es un error frecuente en ciclos `while`, especialmente al usar índices.\n",
    "\n",
    "Si ven que el ciclo no termina, detengan el bloque. Si el bloque no se detiene, maten el kernel."
   ]
  },
  {
   "cell_type": "code",
   "execution_count": 25,
   "id": "26face94",
   "metadata": {},
   "outputs": [
    {
     "ename": "KeyboardInterrupt",
     "evalue": "",
     "output_type": "error",
     "traceback": [
      "\u001b[1;31m---------------------------------------------------------------------------\u001b[0m",
      "\u001b[1;31mKeyboardInterrupt\u001b[0m                         Traceback (most recent call last)",
      "Cell \u001b[1;32mIn[25], line 2\u001b[0m\n\u001b[0;32m      1\u001b[0m \u001b[38;5;28;01mwhile\u001b[39;00m \u001b[38;5;28;01mTrue\u001b[39;00m:\n\u001b[1;32m----> 2\u001b[0m     \u001b[38;5;28;01mcontinue\u001b[39;00m\n",
      "\u001b[1;31mKeyboardInterrupt\u001b[0m: "
     ]
    }
   ],
   "source": [
    "while True:\n",
    "    continue"
   ]
  },
  {
   "cell_type": "markdown",
   "id": "3b175d6b",
   "metadata": {},
   "source": [
    "#### Algunos operadores para ciclos\n",
    "\n",
    "Los siguientes operadores pueden ayudarles al momento de hacer un ciclo.\n",
    "\n",
    "- `continue`: indica al ciclo que inicie la siguiente iteración inmediatamente\n",
    "- `break`: indica al ciclo que debe terminarse"
   ]
  },
  {
   "cell_type": "code",
   "execution_count": 29,
   "id": "2d7665c3",
   "metadata": {},
   "outputs": [
    {
     "name": "stdout",
     "output_type": "stream",
     "text": [
      "Hay que comprar café\n"
     ]
    }
   ],
   "source": [
    "#Digamos que quiero saber si hay Café en la lista. Para esto podemos usar find o index, pero hagámoslo con un ciclo para\n",
    "#el ejemplo.\n",
    "compras = [\"Pan\",\"Queso\",\"Leche\",\"Huevos\",\"Jamón\",\"Café\"]\n",
    "for cosa in compras:\n",
    "    if cosa == \"Café\":\n",
    "        print(\"Hay que comprar café\")\n",
    "        break"
   ]
  },
  {
   "cell_type": "code",
   "execution_count": 30,
   "id": "7c5f5c1d",
   "metadata": {},
   "outputs": [
    {
     "name": "stdout",
     "output_type": "stream",
     "text": [
      "9\n",
      "36\n",
      "81\n",
      "144\n",
      "225\n",
      "324\n"
     ]
    }
   ],
   "source": [
    "#Otra forma (menos eficiente) de determinar los cuadrados de los múltiplos de 3 hasta 20\n",
    "for i in range(3,20,1):\n",
    "    if i%3!=0:\n",
    "        continue\n",
    "    else:\n",
    "        print(i**2)"
   ]
  },
  {
   "cell_type": "markdown",
   "id": "77335a67",
   "metadata": {},
   "source": [
    "## Ciclos/Condicionales Internos\n",
    "\n",
    "Un ciclo, condicional, e inclusive función puede definirse dentro de otro ciclo, condicional, o función mientras se respete la respectiva tabulación.\n",
    "\n",
    "Por ejemplo, si se quisiera definir un ciclo dentro de una función:\n",
    "\n",
    "> `def nombre(parámetro1 = valor1, parámetro2 = valor2, ...):`\n",
    ">\n",
    "> (tab) `for valor in (conjunto):`\n",
    ">\n",
    "> (tab) (tab) `acciones`\n",
    ">\n",
    "> (tab)   `...`\n",
    ">    \n",
    "> (tab)   `return salida`"
   ]
  },
  {
   "cell_type": "code",
   "execution_count": 33,
   "id": "cbfc31b9",
   "metadata": {},
   "outputs": [
    {
     "name": "stdout",
     "output_type": "stream",
     "text": [
      "24\n"
     ]
    }
   ],
   "source": [
    "#Por ejemplo, hagamos una función factorial.\n",
    "def factorial(x):\n",
    "    total = 1\n",
    "    while x > 1:\n",
    "        total = total*x\n",
    "        x = x-1\n",
    "    return(total)\n",
    "\n",
    "print(factorial(4))"
   ]
  },
  {
   "cell_type": "markdown",
   "id": "02358198",
   "metadata": {},
   "source": [
    "# List Comprehension\n",
    "\n",
    "Una de las funcionalidades más poderosad de Python. Es posible generar listas en Python a partir de la aplicación de una función o condición sobre otra lista o iterable. La sintaxis básica es:\n",
    "\n",
    "> `nueva_lista = [ nuevo_valor for valor in iterable ] `\n",
    "\n",
    "Donde `valor` es cualquier nombre de variable, y `nuevo_valor` es el nuevo valor asignado en la nueva lista. Este nuevo valor puede generarse aplicando una función sobre el valor original.\n",
    "\n",
    "Si se desea es posible añadir un condicional `if` o un `if` y un `else`. Esto es independiente de si se va a aplicar una función sobre los elementos del iterable. Por ejemplo:\n",
    "\n",
    "> `nueva_lista = [ nuevo_valor for valor in iterable if condición1 else otro_valor ] `\n",
    "\n",
    "Es posible únicamente usar `if` sin `else`, en cuyo caso solo se operará sobre los valores del iterable que cumplen la condición. \n",
    "\n",
    "Veamos algunos ejemplos."
   ]
  },
  {
   "cell_type": "code",
   "execution_count": 36,
   "id": "e8cedb7b",
   "metadata": {},
   "outputs": [
    {
     "name": "stdout",
     "output_type": "stream",
     "text": [
      "[9, 36, 81, 144, 225, 324]\n"
     ]
    }
   ],
   "source": [
    "#Volvamos a realizar el ejercicio del cuadrado de los múltiplos de 3 hasta 20, pero en una sola línea.\n",
    "cuadrados = [x**2 for x in range(3,20,3)]\n",
    "print(cuadrados)"
   ]
  },
  {
   "cell_type": "code",
   "execution_count": 37,
   "id": "91960449",
   "metadata": {},
   "outputs": [
    {
     "name": "stdout",
     "output_type": "stream",
     "text": [
      "['Café molido', 'Café descafeinado']\n"
     ]
    }
   ],
   "source": [
    "#También es posible filtrar una lista usando comprehension con condicionales.\n",
    "compras = [\"Café molido\",\"Leche\",\"Café descafeinado\",\"Azúcar\",\"Sal\"]\n",
    "cafes = [x for x in compras if x.startswith(\"Café\")]\n",
    "print(cafes)"
   ]
  },
  {
   "cell_type": "markdown",
   "id": "2af16ef3",
   "metadata": {},
   "source": [
    "Se puede usar una sintaxis similar para construir un diccionario a partir de dos listas:\n",
    "\n",
    "> `diccionario = {llave : valor for llave,valor in zip(lista1,lista2)}`"
   ]
  },
  {
   "cell_type": "code",
   "execution_count": 38,
   "id": "9a0484e0",
   "metadata": {},
   "outputs": [
    {
     "name": "stdout",
     "output_type": "stream",
     "text": [
      "{'Pablo': 235, 'Petra': 389}\n"
     ]
    }
   ],
   "source": [
    "nombre = [\"Pablo\",\"Petra\"]\n",
    "numero = [235,389]\n",
    "\n",
    "extension = {nom:num for nom,num in zip(nombre,numero)}\n",
    "print(extension)"
   ]
  },
  {
   "cell_type": "markdown",
   "id": "9d662675",
   "metadata": {},
   "source": [
    "# Manejo básico de archivos"
   ]
  },
  {
   "cell_type": "markdown",
   "id": "f3d3617f",
   "metadata": {},
   "source": [
    "Cualquier archivo de texto puede cargarse e iterarse en python. Al abrir el archivo se construye  un iterador que permite recorrer las líneas del archivo, de la primera a la última. \n",
    "\n",
    "Para abrir un archivo se usa la función `open`:\n",
    "\n",
    "> `archivo = open(ruta,modo)`\n",
    "\n",
    "Donde `archivo` es ahora el nombre del iterable, `ruta es la ubicación del archivo (bien absoluta o respecto al cuaderno de Jupyter), y modo puede tomar uno de los siguientes valores:\n",
    "\n",
    "- `r` para solo leer el archivo.\n",
    "- `w` para escribir en el archivo\n",
    "- `a` para añadir información al archivo\n",
    "\n",
    "**Cuidado: Abrir un archivo con la opción _w_ borra cualquier contenido previo que tenga el archivo.**\n",
    "\n",
    "**Nota: En Windows es posible que deban reemplazar los slash (/) por doble backslash (\\\\) en la ruta de un archivo para que Jupyter lo encuentre.**\n",
    "\n",
    "### Leer archivos\n",
    "Al definir el iterable se pueden usar las siguiente funciones para leer el archivo:\n",
    "\n",
    "- `archivo.read()` arroja la siguiente línea no leída del texto, iniciando por la primera.\n",
    "- `archivo.readlines()` arroja una lista con todas las línea aún no leidas del archivo.\n",
    "\n",
    "Al dejar de trabajar con un archivo es recomendable correr `archivo.close()` para cerrar la conexión de Python al mismo."
   ]
  },
  {
   "cell_type": "code",
   "execution_count": 51,
   "id": "9c7fe2f5",
   "metadata": {},
   "outputs": [
    {
     "name": "stdout",
     "output_type": "stream",
     "text": [
      "7\n",
      "\n",
      "Inclinado en las tardes tiro mis tristes redes\n",
      "\n",
      "a tus ojos oceÃ¡nicos.\n",
      "\n",
      "['a tus ojos oceÃ¡nicos.\\n', '\\n', 'AllÃ\\xad se estira y arde en la mÃ¡s alta hoguera\\n', 'mi soledad que da vueltas los brazos como un nÃ¡ufrago.\\n', '\\n', 'Hago rojas seÃ±ales sobre tus ojos ausentes\\n', 'que olean como el mar a la orilla de un faro.\\n', '\\n', 'SÃ³lo guardas tinieblas, hembra distante y mÃ\\xada,\\n', 'de tu mirada emerge a veces la costa del espanto.\\n', '\\n', 'Inclinado en las tardes echo mis tristes redes\\n', 'a ese mar que sacude tus ojos oceÃ¡nicos.\\n', '\\n', 'Los pÃ¡jaros nocturnos picotean las primeras estrellas\\n', 'que centellean como mi alma cuando te amo.\\n', '\\n', 'Galopa la noche en su yegua sombrÃ\\xada\\n', 'desparramando espigas azules sobre el campo.']\n"
     ]
    }
   ],
   "source": [
    "#Carguemos un archivo de ejemplo\n",
    "archivo = open(\"Poema7.txt\",\"r\")\n",
    "\n",
    "#Podemos cargar la primera línea con read.\n",
    "Primera = archivo.readline()\n",
    "print(Primera)\n",
    "\n",
    "#La segunda línea se carga de la misma forma.\n",
    "Segunda = archivo.readline()\n",
    "print(Segunda)\n",
    "\n",
    "#readlines me permite guardar el resto como una lista.\n",
    "Resto = archivo.readlines()\n",
    "print(Resto[0])\n",
    "\n",
    "#Noten que las líneas vacías son cargadas también, así como los símbolos de newline.\n",
    "print(Resto)\n",
    "\n",
    "archivo.close()"
   ]
  },
  {
   "cell_type": "code",
   "execution_count": 54,
   "id": "c0b5ea09",
   "metadata": {},
   "outputs": [
    {
     "name": "stdout",
     "output_type": "stream",
     "text": [
      "7\n",
      "Inclinado en las tardes tiro mis tristes redes\n",
      "a tus ojos oceÃ¡nicos.\n",
      "\n",
      "AllÃ­ se estira y arde en la mÃ¡s alta hoguera\n",
      "mi soledad que da vueltas los brazos como un nÃ¡ufrago.\n",
      "\n",
      "Hago rojas seÃ±ales sobre tus ojos ausentes\n",
      "que olean como el mar a la orilla de un faro.\n",
      "\n",
      "SÃ³lo guardas tinieblas, hembra distante y mÃ­a,\n",
      "de tu mirada emerge a veces la costa del espanto.\n",
      "\n",
      "Inclinado en las tardes echo mis tristes redes\n",
      "a ese mar que sacude tus ojos oceÃ¡nicos.\n",
      "\n",
      "Los pÃ¡jaros nocturnos picotean las primeras estrellas\n",
      "que centellean como mi alma cuando te amo.\n",
      "\n",
      "Galopa la noche en su yegua sombrÃ­a\n",
      "desparramando espigas azules sobre el campo.\n"
     ]
    }
   ],
   "source": [
    "#readlines sirve también para iterar sobre las líneas de un archivo.\n",
    "archivo = open(\"Poema7.txt\",\"r\")\n",
    "\n",
    "#Digamos que quiero imprimir todas líneas, pero sin el newline. Se puede usar replace para esto.\n",
    "for line in archivo.readlines():\n",
    "    print(line.replace(\"\\n\",\"\"))\n",
    "    \n",
    "archivo.close()"
   ]
  },
  {
   "cell_type": "markdown",
   "id": "25964322",
   "metadata": {},
   "source": [
    "#### strip y split\n",
    "\n",
    "Dos funciones integradas de strings que pueden ser útiles al momento de cargar archivos son `strip` y `split`. \n",
    "\n",
    "- `strip` remueve cualquier espacio que haya al principio y final de un string.\n",
    "- `split` convierte un string en una lista con base en un separador\n",
    "\n",
    "Veamos ejemplos de esto."
   ]
  },
  {
   "cell_type": "code",
   "execution_count": 56,
   "id": "032467a8",
   "metadata": {},
   "outputs": [
    {
     "name": "stdout",
     "output_type": "stream",
     "text": [
      "esto es un texto\n",
      "['Persona', 'Numero', 'Cargo', 'Archivo']\n"
     ]
    }
   ],
   "source": [
    "#split sirve para limpiar un string de espacios iniciales y finales\n",
    "linea = \"  esto es un texto    \"\n",
    "print(linea.strip())\n",
    "\n",
    "#strip es útil, por ejemplo, si se desean guardar por separado los elementos de una línea de texto.\n",
    "linea = \"Persona,Numero,Cargo,Archivo\"\n",
    "print(linea.split(\",\"))"
   ]
  },
  {
   "cell_type": "markdown",
   "id": "36b1ebaf",
   "metadata": {},
   "source": [
    "### Escribir en archivos\n",
    "\n",
    "Para escribir se usa la función `write(texto)`, integrada al iterable que abre el archivo. `texto` debe ser un objeto string.\n",
    "\n",
    "Nótese que esta función no inserta saltos de línea por defecto. Para ello se debe usar el símbolo de nueva línea: `\\n` ."
   ]
  },
  {
   "cell_type": "code",
   "execution_count": 58,
   "id": "a303ac39",
   "metadata": {},
   "outputs": [],
   "source": [
    "#Digamos que queremos generar un archivo csv. En este caso el archivo no existe, así que se usa w como modo.\n",
    "archivo = open(\"tabla.csv\",\"w\")\n",
    "\n",
    "#Se escribe la primera línea con write. Se añade \\n para terminar la primera línea.\n",
    "archivo.write(\"Persona,Numero\\n\")\n",
    "\n",
    "#Para líneas subsecuentes el procedimiento es el mismo. \n",
    "archivo.write(\"Daniel,\")\n",
    "archivo.write(\"8930\")\n",
    "archivo.write(\"\\n\")\n",
    "\n",
    "archivo.close()"
   ]
  },
  {
   "cell_type": "code",
   "execution_count": 59,
   "id": "aba2e4d6",
   "metadata": {},
   "outputs": [],
   "source": [
    "#Si deseo añadir entradas uso el modo a.\n",
    "archivo = open(\"tabla.csv\",\"a\")\n",
    "\n",
    "archivo.write(\"Marcela,8494\\n\")\n",
    "archivo.close()"
   ]
  },
  {
   "cell_type": "markdown",
   "id": "971606b3",
   "metadata": {},
   "source": [
    "Para el caso de archivos de tablas suele ser más conveniente cargar directamente las mismas usando Pandas. Veremos eso más adelante."
   ]
  },
  {
   "cell_type": "markdown",
   "id": "04847a68",
   "metadata": {},
   "source": [
    "### Formateo de Strings\n",
    "\n",
    "En Python es posible el uso de la funcion `format` para imprimir strings de formas específicas, inclusive si se trata de variables. \n",
    "\n",
    "Un ejemplo de sintaxis de la función es el siguiente:\n",
    "\n",
    "> `print(\"Texto {0} ... {1} ... {2}, ... {n}\".format(elemento0,elemento1,...,elementon))`\n",
    "\n",
    "Donde los números entre corchetes indican donde debe ir elemento asociado (`{0}` para `elemento0`, `{1}` para el `elemento1`, etc.)."
   ]
  },
  {
   "cell_type": "code",
   "execution_count": 61,
   "id": "7f770503",
   "metadata": {},
   "outputs": [
    {
     "name": "stdout",
     "output_type": "stream",
     "text": [
      "El artículo Taza es de color Azul y cuesta 10500 mil pesos\n",
      "El artículo Plato es de color Blanco y cuesta 6500 mil pesos\n"
     ]
    }
   ],
   "source": [
    "#Digamos que deseo imprimir de la misma manera 3 elementos de dos listas distintas.\n",
    "producto1 = [\"Taza\",\"Azul\",10500]\n",
    "producto2 = [\"Plato\",\"Blanco\",6500]\n",
    "\n",
    "print(\"El artículo {0} es de color {1} y cuesta {2} mil pesos\".format(producto1[0],producto1[1],producto1[2]))\n",
    "print(\"El artículo {0} es de color {1} y cuesta {2} mil pesos\".format(producto2[0],producto2[1],producto2[2]))"
   ]
  },
  {
   "cell_type": "markdown",
   "id": "fbe13ed0",
   "metadata": {},
   "source": [
    "### Reemplazo con Especificadores de Formato\n",
    "\n",
    "Finalmente, es posible hacer reemplazos de strings mediante especificadores de formato. Algunos de los especificadores existentes en Python pueden consultarse en la imagen abajo, tomada de [aqui](https://onecore.net/regular-expressions-in-python.htm).Los especificadores de formato de Python pueden consultarse [aqui](https://pynative.com/python-regex-metacharacters/). El paquete para realizar esta operación se conoce como `re`, y debe importarse (más sobre importar paquetes en el siguiente módulo).\n",
    "\n",
    "![Especificadores](python_regex.png)"
   ]
  },
  {
   "cell_type": "markdown",
   "id": "5390c1f6",
   "metadata": {},
   "source": [
    "La función a usar es `re.sub(texto,reemplazo,string)` donde texto es el texto a reemplazar, reemplazo el nuevo texto, y string el string sobre el que se está operando."
   ]
  },
  {
   "cell_type": "code",
   "execution_count": 67,
   "id": "aa13be0f",
   "metadata": {},
   "outputs": [
    {
     "name": "stdout",
     "output_type": "stream",
     "text": [
      "['ggamblador', 'ggneador', 'ggmador de variantes']\n"
     ]
    }
   ],
   "source": [
    "#Digamos que deseo cambiar las 3 primeras letras de todo elemento de una lista por gg.\n",
    "import re\n",
    "software = [\"ensamblador\",\"alineador\",\"llamador de variantes\"]\n",
    "print([re.sub(\"^...\",\"gg\",x) for x in software])"
   ]
  },
  {
   "cell_type": "markdown",
   "id": "9b90de89",
   "metadata": {},
   "source": [
    "Operaciones como búsqueda también pueden realizarse. En este [vínculo](https://pynative.com/python/regex/) encuentra más información."
   ]
  },
  {
   "cell_type": "markdown",
   "id": "8c5bb6ee",
   "metadata": {},
   "source": [
    "**Si desean realizar algunos ejercicios de Python para practicar, pueden encontrar algunos [aqui](https://pynative.com/python-basic-exercise-for-beginners/) y [aqui](https://www.w3schools.com/python/python_exercises.asp).**"
   ]
  }
 ],
 "metadata": {
  "kernelspec": {
   "display_name": "Python 3 (ipykernel)",
   "language": "python",
   "name": "python3"
  },
  "language_info": {
   "codemirror_mode": {
    "name": "ipython",
    "version": 3
   },
   "file_extension": ".py",
   "mimetype": "text/x-python",
   "name": "python",
   "nbconvert_exporter": "python",
   "pygments_lexer": "ipython3",
   "version": "3.11.5"
  }
 },
 "nbformat": 4,
 "nbformat_minor": 5
}
